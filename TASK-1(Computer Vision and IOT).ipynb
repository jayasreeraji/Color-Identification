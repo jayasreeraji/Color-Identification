{
 "cells": [
  {
   "cell_type": "markdown",
   "id": "reported-publicity",
   "metadata": {},
   "source": [
    "# NAME: JAYASREE S"
   ]
  },
  {
   "cell_type": "markdown",
   "id": "thermal-fireplace",
   "metadata": {},
   "source": [
    "# GRIP @ THE SPARKS FOUNDATION"
   ]
  },
  {
   "cell_type": "markdown",
   "id": "sapphire-investing",
   "metadata": {},
   "source": [
    "# Computer Vision & Internet of Things"
   ]
  },
  {
   "cell_type": "markdown",
   "id": "useful-suffering",
   "metadata": {},
   "source": [
    "# TASK-2: Color Identification in Images\n",
    "                        (Level - Beginner)"
   ]
  },
  {
   "cell_type": "code",
   "execution_count": 9,
   "id": "concrete-disposition",
   "metadata": {},
   "outputs": [],
   "source": [
    "#Importing the required libraries\n",
    "import cv2\n",
    "import pandas as pd\n",
    "import numpy as np"
   ]
  },
  {
   "cell_type": "markdown",
   "id": "environmental-director",
   "metadata": {},
   "source": [
    "# Variable Declaration For Mouse Pointer Movement"
   ]
  },
  {
   "cell_type": "code",
   "execution_count": 10,
   "id": "northern-lightweight",
   "metadata": {},
   "outputs": [],
   "source": [
    "clicked = False\n",
    "r = g = b = xpos = ypos = 0"
   ]
  },
  {
   "cell_type": "markdown",
   "id": "valuable-hindu",
   "metadata": {},
   "source": [
    "# Reading the image"
   ]
  },
  {
   "cell_type": "code",
   "execution_count": 11,
   "id": "vietnamese-delivery",
   "metadata": {},
   "outputs": [],
   "source": [
    "img = cv2.imread(\"C:/Users/HP/OneDrive/Desktop/Intershala/GRIP @ TSF/colorpic.jpg\")"
   ]
  },
  {
   "cell_type": "markdown",
   "id": "particular-turkey",
   "metadata": {},
   "source": [
    "# Taking colors data as input using Pandas"
   ]
  },
  {
   "cell_type": "code",
   "execution_count": 12,
   "id": "dress-sector",
   "metadata": {},
   "outputs": [],
   "source": [
    "index = ['colors', 'color-names', 'hex-value', 'R-value', 'G-value', 'B-value'] \n",
    "df = pd.read_csv('C:/Users/HP/OneDrive/Desktop/Intershala/GRIP @ TSF/The-sparks-Foundation-master/colors.csv', names = index, header = None)"
   ]
  },
  {
   "cell_type": "markdown",
   "id": "competent-scratch",
   "metadata": {},
   "source": [
    "# Selecting color of selected point by double clicking the left button of mouse"
   ]
  },
  {
   "cell_type": "code",
   "execution_count": 13,
   "id": "fatty-alloy",
   "metadata": {},
   "outputs": [],
   "source": [
    "def selectColor(event, x, y , flags, param):\n",
    "    if event == cv2.EVENT_LBUTTONDBLCLK:\n",
    "        global b,g,r,xpos,ypos,clicked\n",
    "        clicked = True\n",
    "        xpos = x\n",
    "        ypos = y\n",
    "        b,g,r = img[y,x]\n",
    "        b = int(b)\n",
    "        g = int(g)\n",
    "        r = int(r)"
   ]
  },
  {
   "cell_type": "markdown",
   "id": "likely-showcase",
   "metadata": {},
   "source": [
    "# Window to display an Image and callback Function for Mouse Events"
   ]
  },
  {
   "cell_type": "code",
   "execution_count": 14,
   "id": "cubic-assurance",
   "metadata": {},
   "outputs": [],
   "source": [
    "cv2.namedWindow('image')\n",
    "cv2.setMouseCallback('image',selectColor)"
   ]
  },
  {
   "cell_type": "markdown",
   "id": "domestic-pitch",
   "metadata": {},
   "source": [
    "# Getting color name of selected area"
   ]
  },
  {
   "cell_type": "code",
   "execution_count": 15,
   "id": "presidential-billy",
   "metadata": {},
   "outputs": [],
   "source": [
    "def getColorName(R,G,B):\n",
    "    minimum = 10000\n",
    "\n",
    "    #  calculate a distance(d) which tells us how close we are to color and choose the one having minimum distance.\n",
    "    for i in range(len(df)):\n",
    "        d = abs(R-int(df.loc[i,'R-value']))+abs(G-int(df.loc[i,'G-value']))+abs(B-int(df.loc[i,'B-value']))\n",
    "        if d<=minimum:\n",
    "            minimum = d\n",
    "            colorName = df.loc[i,\"color-names\"]\n",
    "    return colorName"
   ]
  },
  {
   "cell_type": "markdown",
   "id": "institutional-mechanism",
   "metadata": {},
   "source": [
    "# Shows the color name whenever the double click occurs"
   ]
  },
  {
   "cell_type": "code",
   "execution_count": 16,
   "id": "expensive-warrant",
   "metadata": {},
   "outputs": [],
   "source": [
    "while(1):\n",
    "\n",
    "    # We shown the image window\n",
    "    cv2.imshow('image',img)\n",
    "    if(clicked):\n",
    "        cv2.rectangle(img,(20,20),(750,60),(b,g,r),-1)\n",
    "        text = getColorName(r,g,b)\n",
    "        cv2.putText(img, text, (50,50),2,0.8,(0,0,0),2,cv2.LINE_AA)\n",
    "\n",
    "        if(r+g+b>=600):\n",
    "            cv2.putText(img, text,(50,50),2,0.8,(0,0,0),2,cv2.LINE_AA)\n",
    "        \n",
    "        clicked = False\n",
    "\n",
    "    # Exits when the user presses the 'Esc' button\n",
    "    if cv2.waitKey(20) & 0xFF ==27:\n",
    "        break\n",
    "\n",
    "\n",
    "# Clears all the windows       \n",
    "cv2.destroyAllWindows()"
   ]
  },
  {
   "cell_type": "markdown",
   "id": "viral-pencil",
   "metadata": {},
   "source": [
    "# Thank you!"
   ]
  },
  {
   "cell_type": "code",
   "execution_count": null,
   "id": "informational-benchmark",
   "metadata": {},
   "outputs": [],
   "source": []
  }
 ],
 "metadata": {
  "kernelspec": {
   "display_name": "Python 3",
   "language": "python",
   "name": "python3"
  },
  "language_info": {
   "codemirror_mode": {
    "name": "ipython",
    "version": 3
   },
   "file_extension": ".py",
   "mimetype": "text/x-python",
   "name": "python",
   "nbconvert_exporter": "python",
   "pygments_lexer": "ipython3",
   "version": "3.8.6"
  }
 },
 "nbformat": 4,
 "nbformat_minor": 5
}
